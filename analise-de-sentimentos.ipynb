{
 "cells": [
  {
   "cell_type": "code",
   "execution_count": 7,
   "id": "4ea97ec0",
   "metadata": {},
   "outputs": [
    {
     "name": "stdout",
     "output_type": "stream",
     "text": [
      "Note: you may need to restart the kernel to use updated packages.\n"
     ]
    }
   ],
   "source": [
    "%pip install transformers torch pandas scikit-learn tf-keras accelerate>=0.26.0"
   ]
  },
  {
   "cell_type": "code",
   "execution_count": 8,
   "id": "1da869fa",
   "metadata": {},
   "outputs": [
    {
     "name": "stdout",
     "output_type": "stream",
     "text": [
      "   target         ids                          date      flag  \\\n",
      "0       0  1467810369  Mon Apr 06 22:19:45 PDT 2009  NO_QUERY   \n",
      "1       0  1467810672  Mon Apr 06 22:19:49 PDT 2009  NO_QUERY   \n",
      "2       0  1467810917  Mon Apr 06 22:19:53 PDT 2009  NO_QUERY   \n",
      "3       0  1467811184  Mon Apr 06 22:19:57 PDT 2009  NO_QUERY   \n",
      "4       0  1467811193  Mon Apr 06 22:19:57 PDT 2009  NO_QUERY   \n",
      "\n",
      "              user                                               text  \n",
      "0  _TheSpecialOne_  @switchfoot http://twitpic.com/2y1zl - Awww, t...  \n",
      "1    scotthamilton  is upset that he can't update his Facebook by ...  \n",
      "2         mattycus  @Kenichan I dived many times for the ball. Man...  \n",
      "3          ElleCTF    my whole body feels itchy and like its on fire   \n",
      "4           Karoli  @nationwideclass no, it's not behaving at all....  \n"
     ]
    }
   ],
   "source": [
    "import pandas as pd\n",
    "\n",
    "file_path = \"training.1600000.processed.noemoticon.csv\"\n",
    "\n",
    "\n",
    "df = pd.read_csv(file_path, \n",
    "                    encoding='latin-1',\n",
    "                    header=None,\n",
    "                    delimiter=',',\n",
    "                    on_bad_lines='skip')  \n",
    "\n",
    "\n",
    "df.columns = ['target', 'ids', 'date', 'flag', 'user', 'text']\n",
    "\n",
    "\n",
    "print(df.head())\n"
   ]
  },
  {
   "cell_type": "code",
   "execution_count": 9,
   "id": "b6d7fd0a",
   "metadata": {},
   "outputs": [
    {
     "name": "stdout",
     "output_type": "stream",
     "text": [
      "\n",
      "Distribuição das classes:\n",
      "label\n",
      "0    800000\n",
      "2    800000\n",
      "Name: count, dtype: int64\n"
     ]
    }
   ],
   "source": [
    "import re \n",
    "\n",
    "df['label'] = df['target'].map({0: 0, 2: 1, 4: 2})\n",
    "\n",
    "\n",
    "def clean_text(text):\n",
    "    text = re.sub(r'http\\S+|www\\S+|https\\S+', '', text, flags=re.MULTILINE)\n",
    "    text = re.sub(r'@\\w+|\\#', '', text)  \n",
    "    text = re.sub(r'[^\\w\\s]', '', text)  \n",
    "    return text.strip().lower()  \n",
    "\n",
    "\n",
    "df['text_clean'] = df['text'].apply(clean_text)\n",
    "\n",
    "\n",
    "print(\"\\nDistribuição das classes:\")\n",
    "print(df['label'].value_counts())"
   ]
  },
  {
   "cell_type": "code",
   "execution_count": 10,
   "id": "c949880d",
   "metadata": {},
   "outputs": [
    {
     "name": "stdout",
     "output_type": "stream",
     "text": [
      "Tamanho do conjunto de treino: 5000\n",
      "Tamanho do conjunto de teste: 500\n",
      "\n",
      "Arquivos salvos com sucesso:\n"
     ]
    }
   ],
   "source": [
    "from sklearn.model_selection import train_test_split\n",
    "import pandas as pd\n",
    "\n",
    "\n",
    "train_df, test_df = train_test_split(df,\n",
    "                                    test_size=500,\n",
    "                                    train_size=5000,\n",
    "                                    random_state=42,\n",
    "                                    stratify=df['label'])\n",
    "\n",
    "\n",
    "train_df.to_csv('train_dataset.csv', index=False, encoding='utf-8')\n",
    "test_df.to_csv('test_dataset.csv', index=False, encoding='utf-8')\n",
    "\n",
    "print(f\"Tamanho do conjunto de treino: {len(train_df)}\")\n",
    "print(f\"Tamanho do conjunto de teste: {len(test_df)}\")\n",
    "print(\"\\nArquivos salvos com sucesso:\")\n"
   ]
  },
  {
   "cell_type": "code",
   "execution_count": 11,
   "id": "7e34b5cd",
   "metadata": {},
   "outputs": [
    {
     "name": "stdout",
     "output_type": "stream",
     "text": [
      "Exemplo do conjunto de treino:\n",
      "   target         ids                          date      flag        user  \\\n",
      "0       4  1970090650  Sat May 30 02:24:58 PDT 2009  NO_QUERY        9330   \n",
      "1       0  2251505002  Sat Jun 20 03:43:20 PDT 2009  NO_QUERY    GeemaPee   \n",
      "2       4  2045755369  Fri Jun 05 11:11:19 PDT 2009  NO_QUERY    bustyb73   \n",
      "3       0  2185330476  Mon Jun 15 17:13:15 PDT 2009  NO_QUERY  kimberliea   \n",
      "4       0  2186502804  Mon Jun 15 18:56:01 PDT 2009  NO_QUERY    anggelai   \n",
      "\n",
      "                                                text  label  \\\n",
      "0  I got shutter shades yesterday and I'm still i...      2   \n",
      "1          @ChelseaGA Oh aye, i mind you saying now       0   \n",
      "2  @harmony341 yeah went today and had blood done...      2   \n",
      "3  Had a customer tell me that I was &quot;unplea...      0   \n",
      "4    : my stomach aches..  http://plurk.com/p/117ner      0   \n",
      "\n",
      "                                          text_clean  \n",
      "0  i got shutter shades yesterday and im still in...  \n",
      "1                       oh aye i mind you saying now  \n",
      "2  yeah went today and had blood done thanks for ...  \n",
      "3  had a customer tell me that i was quotunpleasa...  \n",
      "4                                   my stomach aches  \n",
      "\n",
      "Exemplo do conjunto de teste:\n",
      "   target         ids                          date      flag       user  \\\n",
      "0       0  1558160869  Sun Apr 19 07:28:34 PDT 2009  NO_QUERY  purplek64   \n",
      "1       4  2015108957  Wed Jun 03 03:43:45 PDT 2009  NO_QUERY      EeSH7   \n",
      "2       4  2063659630  Sun Jun 07 03:33:58 PDT 2009  NO_QUERY       sm63   \n",
      "3       4  1986285780  Sun May 31 18:36:51 PDT 2009  NO_QUERY    luketns   \n",
      "4       0  2060825417  Sat Jun 06 19:39:05 PDT 2009  NO_QUERY  DJ_Alcide   \n",
      "\n",
      "                                                text  label  \\\n",
      "0               Someone differ ent givin talk  karen      0   \n",
      "1  @1m_a_dork haha you should start that revoluti...      2   \n",
      "2  I went to the temple too, as a Sunday morning ...      2   \n",
      "3  @drewstein I know, that's the problem with typ...      2   \n",
      "4             @Joanne_Luvli keep me posted please..       0   \n",
      "\n",
      "                                          text_clean  \n",
      "0               someone differ ent givin talk  karen  \n",
      "1  haha you should start that revolution and then...  \n",
      "2  i went to the temple too as a sunday morning r...  \n",
      "3  i know thats the problem with typing you could...  \n",
      "4                              keep me posted please  \n"
     ]
    }
   ],
   "source": [
    "train_df = pd.read_csv('train_dataset.csv', encoding='utf-8')\n",
    "test_df = pd.read_csv('test_dataset.csv', encoding='utf-8')\n",
    "\n",
    "\n",
    "print(\"Exemplo do conjunto de treino:\")\n",
    "print(train_df.head())\n",
    "print(\"\\nExemplo do conjunto de teste:\")\n",
    "print(test_df.head())"
   ]
  },
  {
   "cell_type": "code",
   "execution_count": null,
   "id": "336eb397",
   "metadata": {},
   "outputs": [
    {
     "name": "stderr",
     "output_type": "stream",
     "text": [
      "Some weights of BertForSequenceClassification were not initialized from the model checkpoint at bert-base-uncased and are newly initialized: ['classifier.bias', 'classifier.weight']\n",
      "You should probably TRAIN this model on a down-stream task to be able to use it for predictions and inference.\n"
     ]
    },
    {
     "name": "stdout",
     "output_type": "stream",
     "text": [
      "\n",
      "Epoch 1/3\n"
     ]
    },
    {
     "name": "stderr",
     "output_type": "stream",
     "text": [
      "Treinando:   0%|          | 0/313 [00:00<?, ?it/s]/home/bruno/.local/lib/python3.10/site-packages/torch/nn/modules/module.py:1762: FutureWarning: `encoder_attention_mask` is deprecated and will be removed in version 4.55.0 for `BertSdpaSelfAttention.forward`.\n",
      "  return forward_call(*args, **kwargs)\n",
      "Treinando: 100%|██████████| 313/313 [38:08<00:00,  7.31s/it]\n"
     ]
    },
    {
     "name": "stdout",
     "output_type": "stream",
     "text": [
      "Loss de Treinamento: 0.5526, Acurácia de Treinamento: 0.7280\n"
     ]
    },
    {
     "name": "stderr",
     "output_type": "stream",
     "text": [
      "Avaliando: 100%|██████████| 32/32 [01:06<00:00,  2.07s/it]\n"
     ]
    },
    {
     "name": "stdout",
     "output_type": "stream",
     "text": [
      "Acurácia de Validação: 0.7740, F1-Score de Validação: 0.7704\n",
      "\n",
      "Epoch 2/3\n"
     ]
    },
    {
     "name": "stderr",
     "output_type": "stream",
     "text": [
      "Treinando:   0%|          | 0/313 [00:00<?, ?it/s]/home/bruno/.local/lib/python3.10/site-packages/torch/nn/modules/module.py:1762: FutureWarning: `encoder_attention_mask` is deprecated and will be removed in version 4.55.0 for `BertSdpaSelfAttention.forward`.\n",
      "  return forward_call(*args, **kwargs)\n",
      "Treinando: 100%|██████████| 313/313 [38:45<00:00,  7.43s/it]\n"
     ]
    },
    {
     "name": "stdout",
     "output_type": "stream",
     "text": [
      "Loss de Treinamento: 0.3340, Acurácia de Treinamento: 0.8624\n"
     ]
    },
    {
     "name": "stderr",
     "output_type": "stream",
     "text": [
      "Avaliando: 100%|██████████| 32/32 [01:06<00:00,  2.07s/it]\n"
     ]
    },
    {
     "name": "stdout",
     "output_type": "stream",
     "text": [
      "Acurácia de Validação: 0.7800, F1-Score de Validação: 0.7800\n",
      "\n",
      "Epoch 3/3\n"
     ]
    },
    {
     "name": "stderr",
     "output_type": "stream",
     "text": [
      "Treinando:   0%|          | 0/313 [00:00<?, ?it/s]/home/bruno/.local/lib/python3.10/site-packages/torch/nn/modules/module.py:1762: FutureWarning: `encoder_attention_mask` is deprecated and will be removed in version 4.55.0 for `BertSdpaSelfAttention.forward`.\n",
      "  return forward_call(*args, **kwargs)\n",
      "Treinando: 100%|██████████| 313/313 [36:42<00:00,  7.04s/it]\n"
     ]
    },
    {
     "name": "stdout",
     "output_type": "stream",
     "text": [
      "Loss de Treinamento: 0.1624, Acurácia de Treinamento: 0.9406\n"
     ]
    },
    {
     "name": "stderr",
     "output_type": "stream",
     "text": [
      "Avaliando: 100%|██████████| 32/32 [00:58<00:00,  1.82s/it]\n"
     ]
    },
    {
     "name": "stdout",
     "output_type": "stream",
     "text": [
      "Acurácia de Validação: 0.7720, F1-Score de Validação: 0.7714\n"
     ]
    },
    {
     "data": {
      "text/plain": [
       "('./bert_sentiment_model/tokenizer_config.json',\n",
       " './bert_sentiment_model/special_tokens_map.json',\n",
       " './bert_sentiment_model/vocab.txt',\n",
       " './bert_sentiment_model/added_tokens.json')"
      ]
     },
     "execution_count": 12,
     "metadata": {},
     "output_type": "execute_result"
    },
    {
     "ename": "",
     "evalue": "",
     "output_type": "error",
     "traceback": [
      "\u001b[1;31mThe Kernel crashed while executing code in the current cell or a previous cell. \n",
      "\u001b[1;31mPlease review the code in the cell(s) to identify a possible cause of the failure. \n",
      "\u001b[1;31mClick <a href='https://aka.ms/vscodeJupyterKernelCrash'>here</a> for more info. \n",
      "\u001b[1;31mView Jupyter <a href='command:jupyter.viewOutput'>log</a> for further details."
     ]
    }
   ],
   "source": [
    "import torch\n",
    "from torch.utils.data import DataLoader\n",
    "from transformers import BertTokenizer, BertForSequenceClassification\n",
    "from torch.optim import AdamW \n",
    "from sklearn.metrics import accuracy_score, f1_score\n",
    "from tqdm import tqdm\n",
    "\n",
    "# Configurações\n",
    "device = torch.device(\"cuda\" if torch.cuda.is_available() else \"cpu\")\n",
    "batch_size = 16\n",
    "epochs = 3\n",
    "learning_rate = 5e-5\n",
    "\n",
    "# Inicializar o tokenizer e o modelo\n",
    "tokenizer = BertTokenizer.from_pretrained('bert-base-uncased')\n",
    "model = BertForSequenceClassification.from_pretrained('bert-base-uncased', num_labels=3)\n",
    "model.to(device)\n",
    "\n",
    "# Dataset personalizado\n",
    "class TweetDataset(torch.utils.data.Dataset):\n",
    "    def __init__(self, texts, labels, tokenizer, max_len=128):\n",
    "        self.texts = texts\n",
    "        self.labels = labels\n",
    "        self.tokenizer = tokenizer\n",
    "        self.max_len = max_len\n",
    "\n",
    "    def __len__(self):\n",
    "        return len(self.texts)\n",
    "\n",
    "    def __getitem__(self, idx):\n",
    "        text = str(self.texts[idx])\n",
    "        label = self.labels[idx]\n",
    "\n",
    "        encoding = self.tokenizer(\n",
    "            text,\n",
    "            truncation=True,\n",
    "            max_length=self.max_len,\n",
    "            padding='max_length',\n",
    "            return_tensors='pt'\n",
    "        )\n",
    "\n",
    "        return {\n",
    "            'input_ids': encoding['input_ids'].squeeze(0),\n",
    "            'attention_mask': encoding['attention_mask'].squeeze(0),\n",
    "            'labels': torch.tensor(label, dtype=torch.long)\n",
    "        }\n",
    "\n",
    "# Criar datasets e dataloaders\n",
    "train_dataset = TweetDataset(\n",
    "    train_df['text_clean'].values,\n",
    "    train_df['label'].values,\n",
    "    tokenizer\n",
    ")\n",
    "\n",
    "test_dataset = TweetDataset(\n",
    "    test_df['text_clean'].values,\n",
    "    test_df['label'].values,\n",
    "    tokenizer\n",
    ")\n",
    "\n",
    "train_loader = DataLoader(train_dataset, batch_size=batch_size, shuffle=True)\n",
    "test_loader = DataLoader(test_dataset, batch_size=batch_size)\n",
    "\n",
    "# Otimizador\n",
    "optimizer = AdamW(model.parameters(), lr=learning_rate)\n",
    "\n",
    "# Função de treinamento\n",
    "def train_epoch(model, data_loader, optimizer, device):\n",
    "    model.train()\n",
    "    total_loss = 0\n",
    "    correct = 0\n",
    "    total = 0\n",
    "\n",
    "    for batch in tqdm(data_loader, desc=\"Treinando\"):\n",
    "        input_ids = batch['input_ids'].to(device)\n",
    "        attention_mask = batch['attention_mask'].to(device)\n",
    "        labels = batch['labels'].to(device)\n",
    "\n",
    "        optimizer.zero_grad()\n",
    "        outputs = model(input_ids, attention_mask=attention_mask, labels=labels)\n",
    "        loss = outputs.loss\n",
    "        logits = outputs.logits\n",
    "\n",
    "        loss.backward()\n",
    "        optimizer.step()\n",
    "\n",
    "        total_loss += loss.item()\n",
    "        preds = torch.argmax(logits, dim=1)\n",
    "        correct += (preds == labels).sum().item()\n",
    "        total += labels.size(0)\n",
    "\n",
    "    accuracy = correct / total\n",
    "    return total_loss / len(data_loader), accuracy\n",
    "\n",
    "# Função de avaliação\n",
    "def evaluate(model, data_loader, device):\n",
    "    model.eval()\n",
    "    correct = 0\n",
    "    total = 0\n",
    "    all_preds = []\n",
    "    all_labels = []\n",
    "\n",
    "    with torch.no_grad():\n",
    "        for batch in tqdm(data_loader, desc=\"Avaliando\"):\n",
    "            input_ids = batch['input_ids'].to(device)\n",
    "            attention_mask = batch['attention_mask'].to(device)\n",
    "            labels = batch['labels'].to(device)\n",
    "\n",
    "            outputs = model(input_ids, attention_mask=attention_mask)\n",
    "            logits = outputs.logits\n",
    "\n",
    "            preds = torch.argmax(logits, dim=1)\n",
    "            correct += (preds == labels).sum().item()\n",
    "            total += labels.size(0)\n",
    "\n",
    "            all_preds.extend(preds.cpu().numpy())\n",
    "            all_labels.extend(labels.cpu().numpy())\n",
    "\n",
    "    accuracy = correct / total\n",
    "    f1 = f1_score(all_labels, all_preds, average='weighted')\n",
    "    return accuracy, f1\n",
    "\n",
    "# Loop de treinamento\n",
    "for epoch in range(epochs):\n",
    "    print(f\"\\nEpoch {epoch + 1}/{epochs}\")\n",
    "    train_loss, train_acc = train_epoch(model, train_loader, optimizer, device)\n",
    "    print(f\"Loss de Treinamento: {train_loss:.4f}, Acurácia de Treinamento: {train_acc:.4f}\")\n",
    "\n",
    "    val_acc, val_f1 = evaluate(model, test_loader, device)\n",
    "    print(f\"Acurácia de Validação: {val_acc:.4f}, F1-Score de Validação: {val_f1:.4f}\")\n",
    "\n",
    "# Salvar o modelo e o tokenizer\n",
    "model.save_pretrained('./bert_sentiment_model')\n",
    "tokenizer.save_pretrained('./bert_sentiment_model')"
   ]
  }
 ],
 "metadata": {
  "kernelspec": {
   "display_name": "Python 3",
   "language": "python",
   "name": "python3"
  },
  "language_info": {
   "codemirror_mode": {
    "name": "ipython",
    "version": 3
   },
   "file_extension": ".py",
   "mimetype": "text/x-python",
   "name": "python",
   "nbconvert_exporter": "python",
   "pygments_lexer": "ipython3",
   "version": "3.10.12"
  }
 },
 "nbformat": 4,
 "nbformat_minor": 5
}
